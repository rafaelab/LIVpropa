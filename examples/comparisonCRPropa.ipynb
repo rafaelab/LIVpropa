{
 "cells": [
  {
   "attachments": {},
   "cell_type": "markdown",
   "metadata": {},
   "source": [
    "# Compare the interactions of CRPropa and LIVpropa\n",
    "\n",
    "CRPropa's `EMPairProduction` and LIVpropa's `PairProductionLIV` should be the same for order 0 LIV. "
   ]
  },
  {
   "cell_type": "code",
   "execution_count": 41,
   "metadata": {},
   "outputs": [],
   "source": [
    "import sys\n",
    "sys.path.append('../build/')\n",
    "\n",
    "from crpropa import *\n",
    "from livpropa import *"
   ]
  },
  {
   "attachments": {},
   "cell_type": "markdown",
   "metadata": {},
   "source": [
    "### Defining the simulation parameters"
   ]
  },
  {
   "cell_type": "code",
   "execution_count": 42,
   "metadata": {},
   "outputs": [],
   "source": [
    "# general parameters\n",
    "dsrc = redshift2ComovingDistance(0.14)\n",
    "electrons = True\n",
    "photons = True\n",
    "thinning = 0.9999 # if 0, no thinning; speeds up the simulations considerably\n",
    "cmb = CMB()\n",
    "ebl = IRB_Gilmore12()\n",
    "crb = URB_Nitu21()\n",
    "\n",
    "# define source\n",
    "source = Source()\n",
    "source.add(SourcePosition(Vector3d(dsrc, 0, 0)))\n",
    "source.add(SourceRedshift1D())\n",
    "source.add(SourceParticleType(22))\n",
    "source.add(SourcePowerLawSpectrum(1 * GeV, 100 * TeV, -1)) # intrinsic source spectrum\n",
    "\n",
    "# output files\n",
    "outputFileCRPropa = 'sim-test-crpropa.txt'\n",
    "outputFileLIVpropa = 'sim-test-livpropa.txt'\n",
    "\n",
    "# simulation statistic\n",
    "nEvents = 20000\n"
   ]
  },
  {
   "attachments": {},
   "cell_type": "markdown",
   "metadata": {},
   "source": [
    "### Running CRPropa simulation"
   ]
  },
  {
   "cell_type": "code",
   "execution_count": 43,
   "metadata": {},
   "outputs": [
    {
     "name": "stdout",
     "output_type": "stream",
     "text": [
      "crpropa::ModuleList: Number of Threads: 10\n",
      "Run ModuleList\n",
      "  Started Sat May 20 18:03:54 2023 : [\u001b[1;32m Finished \u001b[0m] 100%    Needed: 00:00:00  - Finished at Sat May 20 18:03:54 2023\n",
      "\r"
     ]
    }
   ],
   "source": [
    "\n",
    "simCRPropa = ModuleList()\n",
    "simCRPropa.add(SimplePropagation())\n",
    "simCRPropa.add(Redshift())\n",
    "simCRPropa.add(EMPairProduction(cmb, electrons, thinning))\n",
    "simCRPropa.add(EMPairProduction(ebl, electrons, thinning))\n",
    "simCRPropa.add(EMPairProduction(crb, electrons, thinning))\n",
    "# simCRPropa.add(EMInverseComptonScattering(cmb, photons, thinning))\n",
    "# simCRPropa.add(EMInverseComptonScattering(ebl, photons, thinning))\n",
    "simCRPropa.add(MinimumEnergy(1 * GeV))\n",
    "\n",
    "obsCRPropa = Observer()\n",
    "obsCRPropa.add(Observer1D())\n",
    "outputCRPropa = TextOutput(outputFileCRPropa, Output.Event1D)\n",
    "outputCRPropa.setEnergyScale(eV)\n",
    "outputCRPropa.enable(outputCRPropa.WeightColumn) \n",
    "outputCRPropa.disable(outputCRPropa.CandidateTagColumn) \n",
    "obsCRPropa.onDetection(outputCRPropa)\n",
    "\n",
    "simCRPropa.add(obsCRPropa)\n",
    "simCRPropa.setShowProgress()\n",
    "simCRPropa.run(source, nEvents, True)\n",
    "outputCRPropa.close()"
   ]
  },
  {
   "attachments": {},
   "cell_type": "markdown",
   "metadata": {},
   "source": [
    "### Running LIVpropa simulation"
   ]
  },
  {
   "cell_type": "code",
   "execution_count": 44,
   "metadata": {},
   "outputs": [
    {
     "name": "stdout",
     "output_type": "stream",
     "text": [
      "crpropa::ModuleList: Number of Threads: 10\n",
      "Run ModuleList\n",
      "  Started Sat May 20 18:03:54 2023 : [\u001b[1;32m Finished \u001b[0m] 100%    Needed: 00:00:00  - Finished at Sat May 20 18:03:54 2023\n",
      "\r"
     ]
    }
   ],
   "source": [
    "\n",
    "liv = LorentzSymmetry(1.22e28 * eV, 0, 1.)\n",
    "\n",
    "simLIVpropa = ModuleList()\n",
    "simLIVpropa.add(SimplePropagation())\n",
    "simLIVpropa.add(Redshift())\n",
    "simLIVpropa.add(PairProductionLIV(cmb, liv, electrons, thinning))\n",
    "simLIVpropa.add(PairProductionLIV(ebl, liv, electrons, thinning))\n",
    "simLIVpropa.add(PairProductionLIV(crb, liv, electrons, thinning))\n",
    "# simCRPropa.add(EMInverseComptonScattering(cmb, photons, thinning))\n",
    "# simCRPropa.add(EMInverseComptonScattering(ebl, photons, thinning))\n",
    "simLIVpropa.add(MinimumEnergy(1 * GeV))\n",
    "\n",
    "obsLIVpropa = Observer()\n",
    "obsLIVpropa.add(Observer1D())\n",
    "outputLIVpropa = TextOutput('sim-test-livpropa.txt', Output.Event1D)\n",
    "outputLIVpropa.setEnergyScale(eV)\n",
    "outputLIVpropa.enable(outputLIVpropa.WeightColumn) \n",
    "outputLIVpropa.disable(outputLIVpropa.CandidateTagColumn) \n",
    "obsLIVpropa.onDetection(outputLIVpropa)\n",
    "\n",
    "simLIVpropa.add(obsLIVpropa)\n",
    "simLIVpropa.setShowProgress()\n",
    "simLIVpropa.run(source, nEvents, True)\n",
    "outputLIVpropa.close()"
   ]
  },
  {
   "attachments": {},
   "cell_type": "markdown",
   "metadata": {},
   "source": [
    "### Plot results for comparison"
   ]
  },
  {
   "cell_type": "code",
   "execution_count": 45,
   "metadata": {},
   "outputs": [
    {
     "data": {
      "image/png": "[encoded data removed]",
      "text/plain": [
       "<Figure size 640x480 with 1 Axes>"
      ]
     },
     "metadata": {},
     "output_type": "display_data"
    }
   ],
   "source": [
    "%matplotlib inline\n",
    "\n",
    "import numpy as np\n",
    "import matplotlib.pyplot as plt\n",
    "\n",
    "def spectrum(filename, bins):\n",
    "\t# read file\n",
    "\tdata = np.loadtxt(filename, comments = '#')\n",
    "\tidx = np.where(data[:, 1] == 22)\n",
    "\tenergy = data[idx, 2]\n",
    "\tweight = data[idx, 5]\n",
    "\n",
    "\tbinnedData, binEdges = np.histogram(energy, bins = bins, weights = weight)\n",
    "\tbinCentres = binEdges[:-1] + ((binEdges[1 : ] - binEdges[ : -1]) / 2.)\n",
    "\tbinnedData /= np.diff(binEdges) # dN/dE\n",
    "\tbinnedData *= binCentres # E dN/dE\n",
    "\n",
    "\treturn binCentres, binnedData\n",
    "\n",
    "bins = np.logspace(9, 15, 31, endpoint = True)\n",
    "x1, y1 = spectrum(outputFileCRPropa, bins)\n",
    "x2, y2 = spectrum(outputFileLIVpropa, bins)\n",
    "y1 /= np.amax(y1)\n",
    "y2 /= np.amax(y2)\n",
    "\n",
    "plt.xlim(1e9, 1e15)\n",
    "plt.ylim(1e-5, 10.)\n",
    "plt.xscale('log')\n",
    "plt.yscale('log')\n",
    "plt.ylabel('$E dN/dE$ [arb. u.]')\n",
    "plt.xlabel('E [eV]')\n",
    "plt.plot(x1, y1, label = 'CRPropa')\n",
    "plt.plot(x2, y2, label = 'LIVpropa')\n",
    "plt.show()\n"
   ]
  },
  {
   "cell_type": "code",
   "execution_count": null,
   "metadata": {},
   "outputs": [],
   "source": []
  }
 ],
 "metadata": {
  "kernelspec": {
   "display_name": "Python 3",
   "language": "python",
   "name": "python3"
  },
  "language_info": {
   "codemirror_mode": {
    "name": "ipython",
    "version": 3
   },
   "file_extension": ".py",
   "mimetype": "text/x-python",
   "name": "python",
   "nbconvert_exporter": "python",
   "pygments_lexer": "ipython3",
   "version": "3.11.2"
  },
  "orig_nbformat": 4
 },
 "nbformat": 4,
 "nbformat_minor": 2
}
